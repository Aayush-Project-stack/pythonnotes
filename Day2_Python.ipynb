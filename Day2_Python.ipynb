{
  "nbformat": 4,
  "nbformat_minor": 0,
  "metadata": {
    "colab": {
      "provenance": []
    },
    "kernelspec": {
      "name": "python3",
      "display_name": "Python 3"
    },
    "language_info": {
      "name": "python"
    }
  },
  "cells": [
    {
      "cell_type": "code",
      "execution_count": null,
      "metadata": {
        "id": "nxwwcuk_xpsf"
      },
      "outputs": [],
      "source": [
        "# method : functionality of a function depends on a object it know as method\n",
        "# python supports both methods and functions\n",
        "# functions example : input() , len(), sum(), max(), min() etc\n",
        "# method list.append(), copy()"
      ]
    },
    {
      "cell_type": "code",
      "source": [
        "# List data\n",
        "# dynamic size\n",
        "# heterogenous : different data types can be stored\n",
        "# mutable : it can be changed and modified\n",
        "# ordered\n",
        "# unsorted\n",
        "# indexed : positive indexing , -ve indexing\n",
        "# positive indexing start from 0 and last index : size -1\n",
        "# -ve indexing : start from last and it will -1 and end -size"
      ],
      "metadata": {
        "id": "SYbX1eYtx-lh"
      },
      "execution_count": null,
      "outputs": []
    },
    {
      "cell_type": "code",
      "source": [
        "#creating list\n",
        "l=[]\n",
        "l1=list()\n",
        "print('empty list',type(l))\n",
        "print(\"empty list2\",type(l1))"
      ],
      "metadata": {
        "colab": {
          "base_uri": "https://localhost:8080/"
        },
        "id": "QjMA-_4lzamY",
        "outputId": "bf4e6088-a643-4ff1-f5d7-d42a7df9ccad"
      },
      "execution_count": null,
      "outputs": [
        {
          "output_type": "stream",
          "name": "stdout",
          "text": [
            "empty list <class 'list'>\n",
            "empty list2 <class 'list'>\n"
          ]
        }
      ]
    },
    {
      "cell_type": "code",
      "source": [
        "l=[10,20,30,40]\n",
        "#access elements in list listname[index] if index is found it will be return value at index\n",
        "# if index is not found it will throw error : index error list index out of range\n",
        "index=int(input('enter index'))\n",
        "print(f'value at index {index} = {l[index]}')"
      ],
      "metadata": {
        "colab": {
          "base_uri": "https://localhost:8080/"
        },
        "id": "735WPCHLzgyM",
        "outputId": "3a37f89d-7d01-43b2-d756-0bc6ef291e40"
      },
      "execution_count": null,
      "outputs": [
        {
          "output_type": "stream",
          "name": "stdout",
          "text": [
            "enter index-1\n",
            "value at index -1 = 40\n"
          ]
        }
      ]
    },
    {
      "cell_type": "code",
      "source": [
        "# modify element in a list listname[index] = value\n",
        "# it will update value for given index\n",
        "# if index not found it will raise index error\n",
        "index=int(input('enter index'))\n",
        "newvalue=int(input('enter new value'))\n",
        "print(\"Old list\",l)\n",
        "l[index]=newvalue\n",
        "print(\"New list\",l)\n",
        "\n"
      ],
      "metadata": {
        "colab": {
          "base_uri": "https://localhost:8080/"
        },
        "id": "wyfrKxHD08zd",
        "outputId": "b6cfbc60-8b2c-4fb7-86ac-8abef838e5c8"
      },
      "execution_count": null,
      "outputs": [
        {
          "output_type": "stream",
          "name": "stdout",
          "text": [
            "enter index-1\n",
            "enter new value333\n",
            "Old list [10, 20, 500, 40]\n",
            "New list [10, 20, 500, 333]\n"
          ]
        }
      ]
    },
    {
      "cell_type": "code",
      "source": [
        "# access element using loop\n",
        "for item in l :\n",
        "  print(item,end='  ')\n",
        "print('size of list',len(l))"
      ],
      "metadata": {
        "colab": {
          "base_uri": "https://localhost:8080/"
        },
        "id": "mT4mLBfr1gh4",
        "outputId": "94dbc204-ec2a-457d-90a7-c7c96c290fc3"
      },
      "execution_count": null,
      "outputs": [
        {
          "output_type": "stream",
          "name": "stdout",
          "text": [
            "10  20  500  333  size of list 4\n"
          ]
        }
      ]
    },
    {
      "cell_type": "code",
      "source": [
        "for index in range(0,len(l)):\n",
        "  print(f'value at index {index} = {l[index]}')"
      ],
      "metadata": {
        "colab": {
          "base_uri": "https://localhost:8080/"
        },
        "id": "G3Ey8suO13ck",
        "outputId": "c7d02bd5-9258-4fdf-f1f3-4544b4ef7518"
      },
      "execution_count": null,
      "outputs": [
        {
          "output_type": "stream",
          "name": "stdout",
          "text": [
            "value at index 0 = 10\n",
            "value at index 1 = 20\n",
            "value at index 2 = 500\n",
            "value at index 3 = 333\n"
          ]
        }
      ]
    },
    {
      "cell_type": "code",
      "source": [
        "#append() it will add the value at the end of list size of list will be changed\n",
        "# single object will added\n",
        "nvalue=int(input('enter value to add '))\n",
        "l.append(nvalue)\n",
        "print('Update list',l)"
      ],
      "metadata": {
        "colab": {
          "base_uri": "https://localhost:8080/"
        },
        "id": "Lb0vbeq82VxG",
        "outputId": "5de81259-e99b-4403-eab2-c586b7428974"
      },
      "execution_count": null,
      "outputs": [
        {
          "output_type": "stream",
          "name": "stdout",
          "text": [
            "enter value to add 20\n",
            "Update list [10, 20, 500, 333, 100, 500, 10, 10, 20]\n"
          ]
        }
      ]
    },
    {
      "cell_type": "code",
      "source": [
        "#index(element)  it will return index position of first occurance of given element\n",
        "# if element is not exits it will raise error\n",
        "item=int(input('enter item to know it position'))\n",
        "occurance= l.count(item) # it will return the no of occurance of item if item is not found it will return 0\n",
        "print(f'item {item} occurance in list {occurance}')\n",
        "if occurance!=0:\n",
        "  pos=l.index(item)\n",
        "  print(f'item {item} found at index {pos} ')\n",
        "else:\n",
        "  print(f'{item} not found')"
      ],
      "metadata": {
        "colab": {
          "base_uri": "https://localhost:8080/"
        },
        "id": "ggpDaQof2w55",
        "outputId": "370d9917-fb0a-44e0-d013-79c63625e302"
      },
      "execution_count": null,
      "outputs": [
        {
          "output_type": "stream",
          "name": "stdout",
          "text": [
            "enter item to know it position10\n",
            "item 10 occurance in list 3\n",
            "item 10 found at index 0 \n"
          ]
        }
      ]
    },
    {
      "cell_type": "code",
      "source": [
        "# remove elements from list\n",
        "#remove(element) it will remove first occurance of given item\n",
        "# if item not found it will raise error : value error\n",
        "item=int(input('enter item to remove'))\n",
        "print('list before removal',l)\n",
        "l.remove(item)\n",
        "print('list after item removal',l)"
      ],
      "metadata": {
        "colab": {
          "base_uri": "https://localhost:8080/"
        },
        "id": "Jdg43Toe3l7P",
        "outputId": "efb3538d-5477-470d-be8b-4c49f2458807"
      },
      "execution_count": null,
      "outputs": [
        {
          "output_type": "stream",
          "name": "stdout",
          "text": [
            "enter item to remove10\n",
            "list before removal [20, 333, 100, 500, 10, 10, 20]\n",
            "list after item removal [20, 333, 100, 500, 10, 20]\n"
          ]
        }
      ]
    },
    {
      "cell_type": "code",
      "source": [
        "#pop() it will remove last element from list\n",
        "# it will return value that is removed if list is empty it will raise error\n",
        "popvalue=l.pop()\n",
        "print('value pop is',popvalue)\n",
        "print('list after pop',l)"
      ],
      "metadata": {
        "colab": {
          "base_uri": "https://localhost:8080/"
        },
        "id": "yNkaDPOa46qF",
        "outputId": "65a65b35-35b8-4ca6-f2f4-1e8f54eb31a9"
      },
      "execution_count": null,
      "outputs": [
        {
          "output_type": "stream",
          "name": "stdout",
          "text": [
            "value pop is 10\n",
            "list after pop [20, 333, 100, 500]\n"
          ]
        }
      ]
    },
    {
      "cell_type": "code",
      "source": [
        "#copy\n",
        "l2=l.copy()\n",
        "print(\"original list\",l)\n",
        "print(\"copied list\",l2)"
      ],
      "metadata": {
        "colab": {
          "base_uri": "https://localhost:8080/"
        },
        "id": "uxXEAiBa5gDl",
        "outputId": "ac878850-1dbd-42e1-ed36-26128da2f4b9"
      },
      "execution_count": null,
      "outputs": [
        {
          "output_type": "stream",
          "name": "stdout",
          "text": [
            "original list [20, 333, 100, 500]\n",
            "copied list [20, 333, 100, 500]\n"
          ]
        }
      ]
    },
    {
      "cell_type": "code",
      "source": [
        "#clear() remove all elements of list\n",
        "print('list before clear',l2)\n",
        "l2.clear()\n",
        "print('list after clear',l2)"
      ],
      "metadata": {
        "colab": {
          "base_uri": "https://localhost:8080/"
        },
        "id": "XSsBxyGj5vCY",
        "outputId": "d8decba6-8589-4921-df5b-2d7465ced189"
      },
      "execution_count": null,
      "outputs": [
        {
          "output_type": "stream",
          "name": "stdout",
          "text": [
            "list before clear [20, 333, 100, 500]\n",
            "list after clear []\n"
          ]
        }
      ]
    },
    {
      "cell_type": "code",
      "source": [
        "#insert(index,value) add value at given index\n",
        "#if index is not found it will add value at the end of list\n",
        "print('list before insertion',l)\n",
        "index=int(input('enter index to add item'))\n",
        "newvalue=int(input('enter new item'))\n",
        "l.insert(index,newvalue)\n",
        "print('list after insert',l)\n"
      ],
      "metadata": {
        "colab": {
          "base_uri": "https://localhost:8080/"
        },
        "id": "RM5YOxID57wz",
        "outputId": "927303e8-d5a6-416b-dd69-306c058b7282"
      },
      "execution_count": null,
      "outputs": [
        {
          "output_type": "stream",
          "name": "stdout",
          "text": [
            "list before insertion [20, 300, 333, 40, 100, 500]\n",
            "enter index to add item100\n",
            "enter new item999\n",
            "list after insert [20, 300, 333, 40, 100, 500, 999]\n"
          ]
        }
      ]
    },
    {
      "cell_type": "code",
      "source": [
        "#extend(iterable) it will add iterable at the end of given list\n",
        "mu=['thor','ironman','captain ','hulk']\n",
        "dcu=['flash','superman','batman','aquaman']\n",
        "print('marvel univer before merging',mu)\n",
        "mu.extend(dcu)\n",
        "print('marvel universe after merging',mu)"
      ],
      "metadata": {
        "colab": {
          "base_uri": "https://localhost:8080/"
        },
        "id": "1mSe-OVC6dNu",
        "outputId": "9100cc2e-9b38-4a76-d2ce-31f9232de1b5"
      },
      "execution_count": null,
      "outputs": [
        {
          "output_type": "stream",
          "name": "stdout",
          "text": [
            "marvel univer before merging ['thor', 'ironman', 'captain ', 'hulk']\n",
            "marvel universe after merging ['thor', 'ironman', 'captain ', 'hulk', 'flash', 'superman', 'batman', 'aquaman']\n"
          ]
        }
      ]
    },
    {
      "cell_type": "code",
      "source": [
        "dbzu=['goku','gohan','vageta','pikalo']\n",
        "mu.append(dbzu)\n",
        "print(mu)"
      ],
      "metadata": {
        "colab": {
          "base_uri": "https://localhost:8080/"
        },
        "id": "Am33ZEU87Uj_",
        "outputId": "d25222e1-8b3f-4b6e-8f36-66038b02eeb0"
      },
      "execution_count": null,
      "outputs": [
        {
          "output_type": "stream",
          "name": "stdout",
          "text": [
            "['thor', 'ironman', 'captain ', 'hulk', 'flash', 'superman', 'batman', 'aquaman', ['goku', 'gohan', 'vageta', 'pikalo']]\n"
          ]
        }
      ]
    },
    {
      "cell_type": "code",
      "source": [
        "# access nested list object outerlist[index][innerlistindex][innerlist2][]...[]\n",
        "mu[-1][3]"
      ],
      "metadata": {
        "colab": {
          "base_uri": "https://localhost:8080/",
          "height": 35
        },
        "id": "DM1KW_Jk7jP0",
        "outputId": "be724b83-4f02-4274-d2b0-7fe7795635b6"
      },
      "execution_count": null,
      "outputs": [
        {
          "output_type": "execute_result",
          "data": {
            "text/plain": [
              "'pikalo'"
            ],
            "application/vnd.google.colaboratory.intrinsic+json": {
              "type": "string"
            }
          },
          "metadata": {},
          "execution_count": 60
        }
      ]
    },
    {
      "cell_type": "code",
      "source": [
        "mu[8][2]"
      ],
      "metadata": {
        "colab": {
          "base_uri": "https://localhost:8080/",
          "height": 35
        },
        "id": "CC5dOa-q8mf4",
        "outputId": "68962f72-08a5-4820-e2f8-6c774c75e616"
      },
      "execution_count": null,
      "outputs": [
        {
          "output_type": "execute_result",
          "data": {
            "text/plain": [
              "'vageta'"
            ],
            "application/vnd.google.colaboratory.intrinsic+json": {
              "type": "string"
            }
          },
          "metadata": {},
          "execution_count": 58
        }
      ]
    },
    {
      "cell_type": "code",
      "source": [
        "dcu"
      ],
      "metadata": {
        "colab": {
          "base_uri": "https://localhost:8080/"
        },
        "id": "30wrwRft8qxF",
        "outputId": "b611ec47-a94b-4f09-c5dc-00d31f74b708"
      },
      "execution_count": null,
      "outputs": [
        {
          "output_type": "execute_result",
          "data": {
            "text/plain": [
              "['flash', 'superman', 'batman', 'aquaman']"
            ]
          },
          "metadata": {},
          "execution_count": 61
        }
      ]
    },
    {
      "cell_type": "code",
      "source": [
        "print('reverse list')\n",
        "dcu.reverse()\n",
        "print(dcu)"
      ],
      "metadata": {
        "colab": {
          "base_uri": "https://localhost:8080/"
        },
        "id": "MLvaG8AB9BSj",
        "outputId": "add87724-0f7a-401f-98a4-7a6c2349b271"
      },
      "execution_count": null,
      "outputs": [
        {
          "output_type": "stream",
          "name": "stdout",
          "text": [
            "reverse list\n",
            "['aquaman', 'batman', 'superman', 'flash']\n"
          ]
        }
      ]
    },
    {
      "cell_type": "code",
      "source": [
        "l=[10,20,30,40]\n",
        "print(sum(l))\n",
        "print(max(l))\n",
        "print(min(l))"
      ],
      "metadata": {
        "colab": {
          "base_uri": "https://localhost:8080/"
        },
        "id": "m6U3hI6p9HXA",
        "outputId": "f6e6eb2c-cdde-4f33-90c8-2cbcf3d0022c"
      },
      "execution_count": null,
      "outputs": [
        {
          "output_type": "stream",
          "name": "stdout",
          "text": [
            "100\n",
            "40\n",
            "10\n"
          ]
        }
      ]
    },
    {
      "cell_type": "code",
      "source": [
        "# 1 wap to create user defined list\n",
        "# 2 wap to find all positions given item in list with out using index function\n",
        "# find the no of occurance of item in a list with out using count function\n",
        "\n",
        "# 3. store temperature of 5 cities in a list in degree celcuis and convert into farenheight\n",
        "# 4. plist =['p1','p2','p3','p4']  nmatches=[100,200,400,50] , nruns=[5000,3000,16000,250]\n",
        "# show average list  . Enter playername =p1  show details of playe noof matches,  norun  and average of player\n",
        "\n",
        "# 5.  l1=[10,20,30,40]  l2=[2,1,3,1]  l3=[10,10,20,30,30,30,40]\n",
        "# elements of list1 will repeat itself as many no of times mentioned in list 2\n"
      ],
      "metadata": {
        "id": "ftAOztUX9e5S"
      },
      "execution_count": null,
      "outputs": []
    },
    {
      "cell_type": "code",
      "source": [
        "l=[]\n",
        "noofelements=int(input('enter no of items in list'))\n",
        "for i in range(0,noofelements):\n",
        "  l.append(int(input('enter element')))\n",
        "print(l)"
      ],
      "metadata": {
        "colab": {
          "base_uri": "https://localhost:8080/"
        },
        "id": "OkWXc_aJCkOO",
        "outputId": "cc11863e-1b0d-48e6-af20-dd121c734fe6"
      },
      "execution_count": null,
      "outputs": [
        {
          "output_type": "stream",
          "name": "stdout",
          "text": [
            "enter no of items in list2\n",
            "enter element10\n",
            "enter element20\n",
            "[10, 20]\n"
          ]
        }
      ]
    },
    {
      "cell_type": "code",
      "source": [
        "#listcomprehenssion\n",
        "#newlist=[expression for item in iterable if condition==True]\n",
        "noofelements=int(input('enter no of items in list'))\n",
        "l2=[int(input(\"enter item\")) for item in range(0,noofelements)]\n",
        "print(l2)"
      ],
      "metadata": {
        "colab": {
          "base_uri": "https://localhost:8080/"
        },
        "id": "n6n6_YjUC4B8",
        "outputId": "c5283536-aba7-41f9-98f7-4cf294029376"
      },
      "execution_count": null,
      "outputs": [
        {
          "output_type": "stream",
          "name": "stdout",
          "text": [
            "enter no of items in list2\n",
            "enter item50\n",
            "enter item500\n",
            "[50, 500]\n"
          ]
        }
      ]
    },
    {
      "cell_type": "code",
      "source": [
        "nlist=[item for item in dcu]\n",
        "nlist"
      ],
      "metadata": {
        "colab": {
          "base_uri": "https://localhost:8080/"
        },
        "id": "yxGhBRiYDbqR",
        "outputId": "c47f7b29-2823-4329-c71f-9d42206b4d1f"
      },
      "execution_count": null,
      "outputs": [
        {
          "output_type": "execute_result",
          "data": {
            "text/plain": [
              "['aquaman', 'batman', 'superman', 'flash']"
            ]
          },
          "metadata": {},
          "execution_count": 67
        }
      ]
    },
    {
      "cell_type": "code",
      "source": [
        "l=[10,5,8,3]\n",
        "cubelist=[item**3 for item in l]\n",
        "cubelist"
      ],
      "metadata": {
        "colab": {
          "base_uri": "https://localhost:8080/"
        },
        "id": "3No0cpdPDtRs",
        "outputId": "f232c457-d6c2-4829-c3ba-02da9e6e3c74"
      },
      "execution_count": null,
      "outputs": [
        {
          "output_type": "execute_result",
          "data": {
            "text/plain": [
              "[1000, 125, 512, 27]"
            ]
          },
          "metadata": {},
          "execution_count": 68
        }
      ]
    },
    {
      "cell_type": "code",
      "source": [
        "cl=[]\n",
        "for item in l:\n",
        "  cl.append(item**3)\n",
        "cl"
      ],
      "metadata": {
        "colab": {
          "base_uri": "https://localhost:8080/"
        },
        "id": "sLqkgsJsEPVc",
        "outputId": "de623b32-750b-4cae-db82-bd9ea891f3f3"
      },
      "execution_count": null,
      "outputs": [
        {
          "output_type": "execute_result",
          "data": {
            "text/plain": [
              "[1000, 125, 512, 27]"
            ]
          },
          "metadata": {},
          "execution_count": 69
        }
      ]
    },
    {
      "cell_type": "code",
      "source": [
        "evenlist=[item for item in l if item%2==0]\n",
        "evenlist"
      ],
      "metadata": {
        "colab": {
          "base_uri": "https://localhost:8080/"
        },
        "id": "s-oUPbrwEXgb",
        "outputId": "07f2c44a-9953-44f9-d8a9-fe2219c09d30"
      },
      "execution_count": null,
      "outputs": [
        {
          "output_type": "execute_result",
          "data": {
            "text/plain": [
              "[10, 8]"
            ]
          },
          "metadata": {},
          "execution_count": 70
        }
      ]
    },
    {
      "cell_type": "code",
      "source": [
        "noofelements=int(input('enter no of items in list'))\n",
        "l2=[int(input(\"enter item\")) for item in range(0,noofelements)]\n",
        "print(l2)"
      ],
      "metadata": {
        "colab": {
          "base_uri": "https://localhost:8080/"
        },
        "id": "xrdT6oL6Ej2V",
        "outputId": "40dc2ffd-1ebf-4493-a64e-f7cc87b64f18"
      },
      "execution_count": null,
      "outputs": [
        {
          "output_type": "stream",
          "name": "stdout",
          "text": [
            "enter no of items in list5\n",
            "enter item10\n",
            "enter item20\n",
            "enter item10\n",
            "enter item10\n",
            "enter item5\n",
            "[10, 20, 10, 10, 5]\n"
          ]
        }
      ]
    },
    {
      "cell_type": "code",
      "source": [
        "item=int(input('enter item to search'))\n",
        "positions=[]\n",
        "count=0\n",
        "for i in range(0,len(l2)):\n",
        "  if item==l2[i]:\n",
        "    count+=1\n",
        "    positions.append(i)\n",
        "\n",
        "if count!=0:\n",
        "  print(f' found {item}')\n",
        "  print(f'No of occurance of element {count}')\n",
        "  print(f'Item found at index locations {positions}')\n",
        "else:\n",
        "  print(f\"{item } not found\")"
      ],
      "metadata": {
        "colab": {
          "base_uri": "https://localhost:8080/"
        },
        "id": "rFibdx13I5BY",
        "outputId": "80e355b9-bc9d-42a3-aaeb-cd596f28288f"
      },
      "execution_count": null,
      "outputs": [
        {
          "output_type": "stream",
          "name": "stdout",
          "text": [
            "enter item to search50\n",
            "50 not found\n"
          ]
        }
      ]
    },
    {
      "cell_type": "code",
      "source": [
        "l1=[]\n",
        "length=int(input(\"Enter the number of cities:\"))\n",
        "for i in range(length):\n",
        "    ele=int(input(\"Enter temp in celsius:\"))\n",
        "    l1.append(ele)\n",
        "res=[]\n",
        "for i in range(length):\n",
        "    f= (l1[i] * 9/5) + 32\n",
        "    res.append(f)\n",
        "print(\"temp in celsius:\",l1)\n",
        "print(\"temp in farenheit:\",res)\n"
      ],
      "metadata": {
        "colab": {
          "base_uri": "https://localhost:8080/"
        },
        "id": "pu9oaMzDJrIE",
        "outputId": "fc03dcbc-a9d8-4c6e-dc2c-85d3b99b915e"
      },
      "execution_count": null,
      "outputs": [
        {
          "output_type": "stream",
          "name": "stdout",
          "text": [
            "Enter the number of cities:2\n",
            "Enter temp in celsius:0\n",
            "Enter temp in celsius:24\n",
            "temp in celsius: [0, 24]\n",
            "temp in farenheit: [32.0, 75.2]\n"
          ]
        }
      ]
    },
    {
      "cell_type": "code",
      "source": [
        "plist =['p1','p2','p3','p4']\n",
        "nmatches=[100,200,400,50]\n",
        "nruns=[5000,3000,16000,250]\n",
        "avglist=[nruns[i]/nmatches[i] for i in range(0,len(nmatches))]\n",
        "print(\"average list\",avglist)"
      ],
      "metadata": {
        "colab": {
          "base_uri": "https://localhost:8080/"
        },
        "id": "5U87FCqJKEOh",
        "outputId": "60b1207a-9548-4089-bcb4-88982e247b7e"
      },
      "execution_count": null,
      "outputs": [
        {
          "output_type": "stream",
          "name": "stdout",
          "text": [
            "average list [50.0, 15.0, 40.0, 5.0]\n"
          ]
        }
      ]
    },
    {
      "cell_type": "code",
      "source": [
        "pn=input(\"enter player name\")\n",
        "occurance=plist.count(pn)\n",
        "if occurance!=0:\n",
        "  pos=plist.index(pn)\n",
        "  print(f'{pn} no of matches = {nmatches[pos]} \\n no of runs = {nruns[pos]} \\n average = {avglist[pos]}')\n",
        "else:\n",
        "  print(f\"{pn} details are not available\")\n"
      ],
      "metadata": {
        "colab": {
          "base_uri": "https://localhost:8080/"
        },
        "id": "wY8Rqr2xKeo9",
        "outputId": "cd66ba77-3ddb-40d7-fff4-249e7cc38a6f"
      },
      "execution_count": null,
      "outputs": [
        {
          "output_type": "stream",
          "name": "stdout",
          "text": [
            "enter player namep5\n",
            "p5 details are not available\n"
          ]
        }
      ]
    },
    {
      "cell_type": "code",
      "source": [
        "l1=[10,20,30,40]\n",
        "l2=[2,1,3,1]\n",
        "l3=[]\n",
        "for i in range(0,len(l1)):\n",
        "  for j in range(l2[i]):\n",
        "    l3.append(l1[i])\n",
        "print(l3)"
      ],
      "metadata": {
        "colab": {
          "base_uri": "https://localhost:8080/"
        },
        "id": "Wq9cxH39LLW1",
        "outputId": "ebb5eef3-c87e-4cd1-8d62-a994ab1aa311"
      },
      "execution_count": null,
      "outputs": [
        {
          "output_type": "stream",
          "name": "stdout",
          "text": [
            "[10, 10, 20, 30, 30, 30, 40]\n"
          ]
        }
      ]
    },
    {
      "cell_type": "code",
      "source": [
        "l=[10,20]\n",
        "l*5"
      ],
      "metadata": {
        "colab": {
          "base_uri": "https://localhost:8080/"
        },
        "id": "lW_t2qGtLcme",
        "outputId": "ba0b5a80-1ee1-43d8-8e9b-e178bd51d2b8"
      },
      "execution_count": null,
      "outputs": [
        {
          "output_type": "execute_result",
          "data": {
            "text/plain": [
              "[10, 20, 10, 20, 10, 20, 10, 20, 10, 20]"
            ]
          },
          "metadata": {},
          "execution_count": 81
        }
      ]
    },
    {
      "cell_type": "code",
      "source": [
        "l=[10,20]\n",
        "l4=[60,40]\n",
        "l3=l+l4 # new list will be created original list will remain unchanged\n",
        "print(l)\n",
        "print(l3)"
      ],
      "metadata": {
        "colab": {
          "base_uri": "https://localhost:8080/"
        },
        "id": "k6r0vCGBLe0-",
        "outputId": "91dd2ec3-c548-4e33-ea33-25515d58fae8"
      },
      "execution_count": null,
      "outputs": [
        {
          "output_type": "stream",
          "name": "stdout",
          "text": [
            "[10, 20]\n",
            "[10, 20, 60, 40]\n"
          ]
        }
      ]
    },
    {
      "cell_type": "code",
      "source": [
        "l=[90,9,3,4,5,65,23,32,43,54,61]\n",
        "l.sort()\n",
        "print(\"sorted list in ascending order\",l)"
      ],
      "metadata": {
        "colab": {
          "base_uri": "https://localhost:8080/"
        },
        "id": "uLzodR5PLk6r",
        "outputId": "844c23f1-3b79-4cdc-9fab-abee47f35eb4"
      },
      "execution_count": null,
      "outputs": [
        {
          "output_type": "stream",
          "name": "stdout",
          "text": [
            "sorted list in ascending order [3, 4, 5, 9, 23, 32, 43, 54, 61, 65, 90]\n"
          ]
        }
      ]
    },
    {
      "cell_type": "code",
      "source": [
        "l=[90,9,3,4,5,65,23,32,43,54,61]\n",
        "l.sort(reverse=True)\n",
        "print(\"sorted list in descending order\",l)"
      ],
      "metadata": {
        "colab": {
          "base_uri": "https://localhost:8080/"
        },
        "id": "ktnay2G9NPMF",
        "outputId": "04144c26-325b-4ae0-9fe0-8c79179134ed"
      },
      "execution_count": null,
      "outputs": [
        {
          "output_type": "stream",
          "name": "stdout",
          "text": [
            "sorted list in descending order [90, 65, 61, 54, 43, 32, 23, 9, 5, 4, 3]\n"
          ]
        }
      ]
    },
    {
      "cell_type": "code",
      "source": [
        "ltest=['aac','aabc','aa','abbbc'] # sort this list on basis of length of item of list\n",
        "ltest.sort()\n",
        "print(ltest)"
      ],
      "metadata": {
        "colab": {
          "base_uri": "https://localhost:8080/"
        },
        "id": "-w1R5KveNXlX",
        "outputId": "4c598234-2667-4999-bf84-5b16841df265"
      },
      "execution_count": null,
      "outputs": [
        {
          "output_type": "stream",
          "name": "stdout",
          "text": [
            "['aa', 'aabc', 'aac', 'abbbc']\n"
          ]
        }
      ]
    },
    {
      "cell_type": "code",
      "source": [
        "ltest.sort(key=len,reverse=True)\n",
        "print(ltest)"
      ],
      "metadata": {
        "colab": {
          "base_uri": "https://localhost:8080/"
        },
        "id": "ocHBhQRTNn4f",
        "outputId": "0b8b5f78-2b3f-4610-d9ff-2f9e4802075d"
      },
      "execution_count": null,
      "outputs": [
        {
          "output_type": "stream",
          "name": "stdout",
          "text": [
            "['abbbc', 'aabc', 'aac', 'aa']\n"
          ]
        }
      ]
    },
    {
      "cell_type": "code",
      "source": [
        "#tuple\n",
        "# immutable : it can not be changed or modified . Object can not be modified.\n",
        "# fixed\n",
        "# indexing , ordered , unsorted ,heterogenous"
      ],
      "metadata": {
        "id": "UFc1Pc0OO2Gl"
      },
      "execution_count": null,
      "outputs": []
    },
    {
      "cell_type": "code",
      "source": [
        "#creating tuple\n",
        "t=()\n",
        "print('empty tuple',type(t))\n",
        "t1=tuple()\n",
        "print(\"empty tuple 2\", type(t1))"
      ],
      "metadata": {
        "colab": {
          "base_uri": "https://localhost:8080/"
        },
        "id": "DkEIxaIQTQo5",
        "outputId": "d20c6003-09f0-4808-ab6f-d6f94dbc4142"
      },
      "execution_count": null,
      "outputs": [
        {
          "output_type": "stream",
          "name": "stdout",
          "text": [
            "empty tuple <class 'tuple'>\n",
            "empty tuple 2 <class 'tuple'>\n"
          ]
        }
      ]
    },
    {
      "cell_type": "code",
      "source": [
        "t1=(10,20,30,40)\n",
        "#access element tuplename[index] if index present returns value not present raise index error\n",
        "ind=int(input('enter index'))\n",
        "print(f'value at {ind} = {t1[ind]}')"
      ],
      "metadata": {
        "colab": {
          "base_uri": "https://localhost:8080/"
        },
        "id": "nxPmDCbATeYt",
        "outputId": "eecedf47-fb83-46fc-a22c-793266cde181"
      },
      "execution_count": null,
      "outputs": [
        {
          "output_type": "stream",
          "name": "stdout",
          "text": [
            "enter index-1\n",
            "value at -1 = 40\n"
          ]
        }
      ]
    },
    {
      "cell_type": "code",
      "source": [
        "t1[2]=40 # TypeError: 'tuple' object does not support item assignment\n",
        "print(t1)"
      ],
      "metadata": {
        "colab": {
          "base_uri": "https://localhost:8080/",
          "height": 158
        },
        "id": "VzdmVkHUTyr6",
        "outputId": "98fe5048-dab2-47c4-c084-cf3cf3e1da24"
      },
      "execution_count": null,
      "outputs": [
        {
          "output_type": "error",
          "ename": "TypeError",
          "evalue": "'tuple' object does not support item assignment",
          "traceback": [
            "\u001b[0;31m---------------------------------------------------------------------------\u001b[0m",
            "\u001b[0;31mTypeError\u001b[0m                                 Traceback (most recent call last)",
            "\u001b[0;32m<ipython-input-98-e4de51575b90>\u001b[0m in \u001b[0;36m<cell line: 1>\u001b[0;34m()\u001b[0m\n\u001b[0;32m----> 1\u001b[0;31m \u001b[0mt1\u001b[0m\u001b[0;34m[\u001b[0m\u001b[0;36m2\u001b[0m\u001b[0;34m]\u001b[0m\u001b[0;34m=\u001b[0m\u001b[0;36m40\u001b[0m\u001b[0;34m\u001b[0m\u001b[0;34m\u001b[0m\u001b[0m\n\u001b[0m\u001b[1;32m      2\u001b[0m \u001b[0mprint\u001b[0m\u001b[0;34m(\u001b[0m\u001b[0mt1\u001b[0m\u001b[0;34m)\u001b[0m\u001b[0;34m\u001b[0m\u001b[0;34m\u001b[0m\u001b[0m\n",
            "\u001b[0;31mTypeError\u001b[0m: 'tuple' object does not support item assignment"
          ]
        }
      ]
    },
    {
      "cell_type": "code",
      "source": [
        "l=[10,20,10,20,10,10,40,50]\n",
        "s=\"hello\"\n",
        "t2=tuple(l)\n",
        "t3=tuple(s)\n",
        "print(t2)\n",
        "print(t3)"
      ],
      "metadata": {
        "colab": {
          "base_uri": "https://localhost:8080/"
        },
        "id": "EXEUosdnT7Uo",
        "outputId": "43bfb0ba-0ebc-4488-f0e6-b3a67b9f6903"
      },
      "execution_count": null,
      "outputs": [
        {
          "output_type": "stream",
          "name": "stdout",
          "text": [
            "(10, 20, 10, 20, 10, 10, 40, 50)\n",
            "('h', 'e', 'l', 'l', 'o')\n"
          ]
        }
      ]
    },
    {
      "cell_type": "code",
      "source": [
        "elem=int(input('enter item'))\n",
        "occ=t2.count(elem)\n",
        "if occ!=0:\n",
        "  pos=t2.index(elem)\n",
        "  print(f'{elem} first occurance found at  index {pos}')\n",
        "else:\n",
        "  print(f'{elem} not found')"
      ],
      "metadata": {
        "colab": {
          "base_uri": "https://localhost:8080/"
        },
        "id": "Ie47uKl2ULQe",
        "outputId": "e80ea2d7-120e-443d-dbfe-978123c70551"
      },
      "execution_count": null,
      "outputs": [
        {
          "output_type": "stream",
          "name": "stdout",
          "text": [
            "enter item40\n",
            "40 first occurance found at  index 6\n"
          ]
        }
      ]
    },
    {
      "cell_type": "code",
      "source": [
        "x=10,20,40,50   # packing\n",
        "print('value of x',x)\n",
        "print(len(x))\n",
        "print(sum(x))\n",
        "print(min(x))\n",
        "print(max(x))"
      ],
      "metadata": {
        "colab": {
          "base_uri": "https://localhost:8080/"
        },
        "id": "zoDkUS33Un8W",
        "outputId": "e54d5d4a-9a66-41fe-f403-0772a779ab46"
      },
      "execution_count": null,
      "outputs": [
        {
          "output_type": "stream",
          "name": "stdout",
          "text": [
            "value of x (10, 20, 40, 50)\n",
            "4\n",
            "120\n",
            "10\n",
            "50\n"
          ]
        }
      ]
    },
    {
      "cell_type": "code",
      "source": [
        "#unpacking\n",
        "n1,n2,n3,n4=x\n",
        "print(n1)\n",
        "print(n2)\n",
        "print(n3)\n",
        "print(n4)"
      ],
      "metadata": {
        "colab": {
          "base_uri": "https://localhost:8080/"
        },
        "id": "KM1SRPoKVGiG",
        "outputId": "1229b9c9-b8df-41c6-e6a3-c3a0c4a440b2"
      },
      "execution_count": null,
      "outputs": [
        {
          "output_type": "stream",
          "name": "stdout",
          "text": [
            "10\n",
            "20\n",
            "40\n",
            "50\n"
          ]
        }
      ]
    },
    {
      "cell_type": "code",
      "source": [
        "x=10\n",
        "y=20\n",
        "x,y=y,x\n",
        "print(x)\n",
        "print(y)"
      ],
      "metadata": {
        "colab": {
          "base_uri": "https://localhost:8080/"
        },
        "id": "_eDg5O1gVYCB",
        "outputId": "8ac58538-9dbf-4815-ba51-dfd1bffd951c"
      },
      "execution_count": null,
      "outputs": [
        {
          "output_type": "stream",
          "name": "stdout",
          "text": [
            "20\n",
            "10\n"
          ]
        }
      ]
    },
    {
      "cell_type": "code",
      "source": [
        "#user defined tuple n=no items and value to store tuple\n",
        "n=int(input('enter no of item'))\n",
        "t=tuple([input('enter names') for i in range(n)])\n",
        "print(t)"
      ],
      "metadata": {
        "colab": {
          "base_uri": "https://localhost:8080/"
        },
        "id": "OW4iE5vCV1Zy",
        "outputId": "d5e2ba94-c2b4-468d-dfbd-1bacb53526f0"
      },
      "execution_count": null,
      "outputs": [
        {
          "output_type": "stream",
          "name": "stdout",
          "text": [
            "enter no of item3\n",
            "enter namesmayank\n",
            "enter nameskaran\n",
            "enter namesprajwal\n",
            "('mayank', 'karan', 'prajwal')\n"
          ]
        }
      ]
    },
    {
      "cell_type": "code",
      "source": [
        "import numpy as np"
      ],
      "metadata": {
        "id": "L_74iMGDWTOE"
      },
      "execution_count": null,
      "outputs": []
    },
    {
      "cell_type": "code",
      "source": [
        "path='/content/cardata.txt'\n",
        "data=np.loadtxt(path,skiprows=1) # packing\n",
        "data=data.T\n",
        "print(data)"
      ],
      "metadata": {
        "colab": {
          "base_uri": "https://localhost:8080/"
        },
        "id": "A6jFmUv1Wjsk",
        "outputId": "668be937-3653-4a7f-a80f-d00354484f9e"
      },
      "execution_count": null,
      "outputs": [
        {
          "output_type": "stream",
          "name": "stdout",
          "text": [
            "[[10. 40. 70.]\n",
            " [20. 50. 80.]\n",
            " [30. 60. 90.]]\n"
          ]
        }
      ]
    },
    {
      "cell_type": "code",
      "source": [
        "car1,car2,car3=data #unpacking\n",
        "print(car1)\n",
        "print(car2)\n",
        "print(car3)"
      ],
      "metadata": {
        "colab": {
          "base_uri": "https://localhost:8080/"
        },
        "id": "ZdDMOvnzXQtw",
        "outputId": "fb195810-6062-46c5-e26c-c6d9a38bda17"
      },
      "execution_count": null,
      "outputs": [
        {
          "output_type": "stream",
          "name": "stdout",
          "text": [
            "[10. 40. 70.]\n",
            "[20. 50. 80.]\n",
            "[30. 60. 90.]\n"
          ]
        }
      ]
    },
    {
      "cell_type": "code",
      "source": [
        "!pip install numpy"
      ],
      "metadata": {
        "colab": {
          "base_uri": "https://localhost:8080/"
        },
        "id": "AKqeedyEXfqa",
        "outputId": "092f9e02-aaf8-4ef9-f6d0-b53d66a3d88b"
      },
      "execution_count": null,
      "outputs": [
        {
          "output_type": "stream",
          "name": "stdout",
          "text": [
            "Requirement already satisfied: numpy in /usr/local/lib/python3.10/dist-packages (1.26.4)\n"
          ]
        }
      ]
    },
    {
      "cell_type": "code",
      "source": [
        "#dictionary\n",
        "# mapping : paired data : key-value\n",
        "# key are unique and value can have duplicacy\n",
        "# key are immutable\n",
        "# it is non indexing\n",
        "# ordered after python 3.6"
      ],
      "metadata": {
        "id": "dExLtm-JY318"
      },
      "execution_count": 124,
      "outputs": []
    },
    {
      "cell_type": "code",
      "source": [
        "#creating dictionary\n",
        "d1={}\n",
        "d2=dict()\n",
        "print('type of d1',type(d1))\n",
        "print(\"empty dictionary 2\",type(d2))"
      ],
      "metadata": {
        "colab": {
          "base_uri": "https://localhost:8080/"
        },
        "id": "R28uZgeVuqf_",
        "outputId": "f41e5f89-c98b-4611-d04d-e9d676dba6fa"
      },
      "execution_count": 125,
      "outputs": [
        {
          "output_type": "stream",
          "name": "stdout",
          "text": [
            "type of d1 <class 'dict'>\n",
            "empty dictionary 2 <class 'dict'>\n"
          ]
        }
      ]
    },
    {
      "cell_type": "code",
      "source": [
        "#d={key:value,key2:value2}\n",
        "dmenu={'dosa':120,'momos':60,'tandoori momos':80,'afgani chaap':120}\n",
        "#access value from a dictionary dictionaryname[key] it will return value for given key\n",
        "# if key is not present it wil raise key error\n",
        "dishname=input(\"enter dish name\")\n",
        "price=dmenu[dishname]\n",
        "print(f'{dishname} = {price} inr')"
      ],
      "metadata": {
        "colab": {
          "base_uri": "https://localhost:8080/"
        },
        "id": "DI6XFms0u5hh",
        "outputId": "abd31965-7229-4102-86ff-4b277e3848a8"
      },
      "execution_count": 130,
      "outputs": [
        {
          "output_type": "stream",
          "name": "stdout",
          "text": [
            "enter dish namemomos\n",
            "momos = 60 inr\n"
          ]
        }
      ]
    },
    {
      "cell_type": "code",
      "source": [
        "#get(key) : it will return value for given key if not present it will return none\n",
        "dishname=input(\"enter dish name\")\n",
        "if dmenu.get(dishname)!=None:\n",
        "  price=dmenu.get(dishname)\n",
        "  print(f'{dishname} = {price} inr')\n",
        "else:\n",
        "  print('Dish is not available for now')"
      ],
      "metadata": {
        "colab": {
          "base_uri": "https://localhost:8080/"
        },
        "id": "t69KClAnvlNM",
        "outputId": "174ae7a5-5427-46f0-998a-2463bdc08dd3"
      },
      "execution_count": 134,
      "outputs": [
        {
          "output_type": "stream",
          "name": "stdout",
          "text": [
            "enter dish namemomos\n",
            "momos = 60 inr\n"
          ]
        }
      ]
    },
    {
      "cell_type": "code",
      "source": [
        "# add or modify a dictionary dictinary[key]=vale\n",
        "# if key already exists it will update value of given key\n",
        "# if not exists it will add new key-value pair at the end of disctionary\n",
        "dishname=input(\"enter dish name\")\n",
        "price=int(input('enter price of dish'))\n",
        "print(\"Old menu\",dmenu)\n",
        "dmenu[dishname]=price\n",
        "print(\"New menu\",dmenu)\n"
      ],
      "metadata": {
        "colab": {
          "base_uri": "https://localhost:8080/"
        },
        "id": "lyoO-EKYv49i",
        "outputId": "59e5f538-1192-4b98-b8db-70440c95fffb"
      },
      "execution_count": 137,
      "outputs": [
        {
          "output_type": "stream",
          "name": "stdout",
          "text": [
            "enter dish namemomos\n",
            "enter price of dish200\n",
            "Old menu {'dosa': 120, 'momos': 80, 'tandoori momos': 80, 'afgani chaap': 120, 'idly': 60}\n",
            "New menu {'dosa': 120, 'momos': 200, 'tandoori momos': 80, 'afgani chaap': 120, 'idly': 60}\n"
          ]
        }
      ]
    },
    {
      "cell_type": "code",
      "source": [
        "#wap to create user defined dictionary\n",
        "d={}\n",
        "n=int(input(\"Length of dict:\"))\n",
        "for i in range(n):\n",
        "    k=input(\"Enter key\")\n",
        "    v=input(\"Enter value:\")\n",
        "    d[k]=v\n",
        "print(\"Dictionary:\",d)"
      ],
      "metadata": {
        "colab": {
          "base_uri": "https://localhost:8080/"
        },
        "id": "IAXcjdmJwsuP",
        "outputId": "78c04ba4-9aad-4182-c004-1783b95a8b3c"
      },
      "execution_count": 138,
      "outputs": [
        {
          "output_type": "stream",
          "name": "stdout",
          "text": [
            "Length of dict:2\n",
            "Enter keyk1\n",
            "Enter value:100\n",
            "Enter keyk2\n",
            "Enter value:200\n",
            "Dictionary: {'k1': '100', 'k2': '200'}\n"
          ]
        }
      ]
    },
    {
      "cell_type": "code",
      "source": [
        "#keys() it will return all the keys of dictionary\n",
        "#values() it will return all values from dictionary\n",
        "#items() - it will return key value pair list from dictionary\n",
        "items=dmenu.keys()\n",
        "prices=dmenu.values()\n",
        "itemdetails=dmenu.items()\n",
        "print(items)\n",
        "print(prices)\n",
        "print(itemdetails)"
      ],
      "metadata": {
        "colab": {
          "base_uri": "https://localhost:8080/"
        },
        "id": "tWfwkUO7zexV",
        "outputId": "5723cec7-cfbb-467a-92ef-248bb367a260"
      },
      "execution_count": 141,
      "outputs": [
        {
          "output_type": "stream",
          "name": "stdout",
          "text": [
            "dict_keys(['dosa', 'momos', 'tandoori momos', 'afgani chaap', 'idly'])\n",
            "dict_values([120, 200, 80, 120, 60])\n",
            "dict_items([('dosa', 120), ('momos', 200), ('tandoori momos', 80), ('afgani chaap', 120), ('idly', 60)])\n"
          ]
        }
      ]
    },
    {
      "cell_type": "code",
      "source": [
        "for item in dmenu.keys():\n",
        "  print(item)"
      ],
      "metadata": {
        "colab": {
          "base_uri": "https://localhost:8080/"
        },
        "id": "h6naktNtz_YK",
        "outputId": "7a388109-2685-4739-810a-cbadfe95f2ec"
      },
      "execution_count": 143,
      "outputs": [
        {
          "output_type": "stream",
          "name": "stdout",
          "text": [
            "dosa\n",
            "momos\n",
            "tandoori momos\n",
            "afgani chaap\n",
            "idly\n"
          ]
        }
      ]
    },
    {
      "cell_type": "code",
      "source": [],
      "metadata": {
        "id": "7smfKVR51h-C"
      },
      "execution_count": null,
      "outputs": []
    },
    {
      "cell_type": "code",
      "source": [
        "# wap to print item name and price from items()\n",
        "for key,value in dmenu.items():\n",
        "  print(key,'->',value)"
      ],
      "metadata": {
        "colab": {
          "base_uri": "https://localhost:8080/"
        },
        "id": "qvBieQQF0Qdl",
        "outputId": "1f00ab29-2a5e-46c9-f199-85d056dbcd6b"
      },
      "execution_count": 145,
      "outputs": [
        {
          "output_type": "stream",
          "name": "stdout",
          "text": [
            "dosa -> 120\n",
            "momos -> 200\n",
            "tandoori momos -> 80\n",
            "afgani chaap -> 120\n",
            "idly -> 60\n"
          ]
        }
      ]
    },
    {
      "cell_type": "code",
      "source": [
        "for item in dmenu.items():\n",
        "  print(item[0],'->',item[1])"
      ],
      "metadata": {
        "colab": {
          "base_uri": "https://localhost:8080/"
        },
        "id": "e3M0ZOqx1tmR",
        "outputId": "b94644a1-ff96-48f4-e7a2-e31bb4958c54"
      },
      "execution_count": 146,
      "outputs": [
        {
          "output_type": "stream",
          "name": "stdout",
          "text": [
            "dosa -> 120\n",
            "momos -> 200\n",
            "tandoori momos -> 80\n",
            "afgani chaap -> 120\n",
            "idly -> 60\n"
          ]
        }
      ]
    },
    {
      "cell_type": "code",
      "source": [
        "# remove elements from dictionary\n",
        "#pop(key) : it will remove value from given key and it will return the popped value\n",
        "# it key not present it will give error\n",
        "#popitems(): it will remove last key value pair of dictionary and return it\n",
        "dishname=input(\"enter dish name to remove\")\n",
        "price=dmenu.pop(dishname)\n",
        "print(f\"{dishname} of price {price} is removed\")\n",
        "print(f'update menu {dmenu}')\n"
      ],
      "metadata": {
        "colab": {
          "base_uri": "https://localhost:8080/"
        },
        "id": "SwU345_914mZ",
        "outputId": "c5aa9040-abe1-42b8-e3fc-11ca49f215d7"
      },
      "execution_count": 147,
      "outputs": [
        {
          "output_type": "stream",
          "name": "stdout",
          "text": [
            "enter dish name to removetandoori momos\n",
            "tandoori momos of price 80 is removed\n",
            "update menu {'dosa': 120, 'momos': 200, 'afgani chaap': 120, 'idly': 60}\n"
          ]
        }
      ]
    },
    {
      "cell_type": "code",
      "source": [
        "item=dmenu.popitem()\n",
        "print('item removed',item)\n",
        "print('update menu',dmenu)"
      ],
      "metadata": {
        "colab": {
          "base_uri": "https://localhost:8080/"
        },
        "id": "-pPzwotl2kwE",
        "outputId": "26e7f11c-3a5f-4dc8-9d3c-b0e3296f4309"
      },
      "execution_count": 149,
      "outputs": [
        {
          "output_type": "stream",
          "name": "stdout",
          "text": [
            "item removed ('afgani chaap', 120)\n",
            "update menu {'dosa': 120, 'momos': 200}\n"
          ]
        }
      ]
    },
    {
      "cell_type": "code",
      "source": [
        "dmenu2={'naan':50,'rumali roti':20,'missi roti':60,'butter naan':80}\n",
        "# update() it will merge value of one dictionary to another\n",
        "dmenu.update(dmenu2)\n",
        "print('New menu',dmenu)"
      ],
      "metadata": {
        "colab": {
          "base_uri": "https://localhost:8080/"
        },
        "id": "CKvaTSbT25kM",
        "outputId": "338aa825-d6d4-45a8-e1f2-5e1bda6365b1"
      },
      "execution_count": 150,
      "outputs": [
        {
          "output_type": "stream",
          "name": "stdout",
          "text": [
            "New menu {'dosa': 120, 'momos': 200, 'naan': 50, 'rumali roti': 20, 'missi roti': 60, 'butter naan': 80}\n"
          ]
        }
      ]
    },
    {
      "cell_type": "code",
      "source": [
        "l=['ichigo','rukiya','ranji']\n",
        "d={}\n",
        "d=d.fromkeys(l,100)\n",
        "print(d)\n"
      ],
      "metadata": {
        "colab": {
          "base_uri": "https://localhost:8080/"
        },
        "id": "trxKegdN3g2b",
        "outputId": "cc1955c6-7187-412e-8850-3f01431ddf07"
      },
      "execution_count": 153,
      "outputs": [
        {
          "output_type": "stream",
          "name": "stdout",
          "text": [
            "{'ichigo': 100, 'rukiya': 100, 'ranji': 100}\n"
          ]
        }
      ]
    },
    {
      "cell_type": "code",
      "source": [
        "dplacements={2022:{'cs':100,'it':110,'ece':80}, 2023: {'cs':90,'me':60,'civil':50},\n",
        "             2024:{'cs':40,'ai':{'ml':50,'dl':40},'ece':40}\n",
        "             }\n",
        "\n",
        "#dictionary[outerkey][innerkey][]...[]\n",
        "print('no of placements in 2023 for me',dplacements[2023]['me'])\n",
        "print(\"no of placement in year 2024 for ml\",dplacements[2024]['ai']['ml'])"
      ],
      "metadata": {
        "colab": {
          "base_uri": "https://localhost:8080/"
        },
        "id": "xJmXnlNA4ynB",
        "outputId": "eaf86e1a-b299-4d29-fa4f-99e39590cd85"
      },
      "execution_count": 155,
      "outputs": [
        {
          "output_type": "stream",
          "name": "stdout",
          "text": [
            "no of placements in 2023 for me 60\n",
            "no of placement in year 2024 for ml 50\n"
          ]
        }
      ]
    },
    {
      "cell_type": "code",
      "source": [
        "# wap to print sum of all values of dictionary with out using sum function\n",
        "sum=0\n",
        "for item in dmenu.values():\n",
        "  sum+=item\n",
        "print(sum)"
      ],
      "metadata": {
        "colab": {
          "base_uri": "https://localhost:8080/"
        },
        "id": "4XC3ktsx5sr2",
        "outputId": "8c84ae55-552d-458b-98dd-e1f1a032327b"
      },
      "execution_count": 159,
      "outputs": [
        {
          "output_type": "stream",
          "name": "stdout",
          "text": [
            "530\n"
          ]
        }
      ]
    },
    {
      "cell_type": "code",
      "source": [
        "#import modulename as alias\n",
        "# from package import itemtoimport\n",
        "from sklearn.datasets import load_iris"
      ],
      "metadata": {
        "id": "wyR-Zq1B7o0x"
      },
      "execution_count": 160,
      "outputs": []
    },
    {
      "cell_type": "code",
      "source": [
        "irisdata = load_iris()\n",
        "irisdata"
      ],
      "metadata": {
        "colab": {
          "base_uri": "https://localhost:8080/"
        },
        "id": "lR4dX-nt8Nco",
        "outputId": "cd1dc55a-f530-4ac3-be56-22c7888ef3ea"
      },
      "execution_count": 161,
      "outputs": [
        {
          "output_type": "execute_result",
          "data": {
            "text/plain": [
              "{'data': array([[5.1, 3.5, 1.4, 0.2],\n",
              "        [4.9, 3. , 1.4, 0.2],\n",
              "        [4.7, 3.2, 1.3, 0.2],\n",
              "        [4.6, 3.1, 1.5, 0.2],\n",
              "        [5. , 3.6, 1.4, 0.2],\n",
              "        [5.4, 3.9, 1.7, 0.4],\n",
              "        [4.6, 3.4, 1.4, 0.3],\n",
              "        [5. , 3.4, 1.5, 0.2],\n",
              "        [4.4, 2.9, 1.4, 0.2],\n",
              "        [4.9, 3.1, 1.5, 0.1],\n",
              "        [5.4, 3.7, 1.5, 0.2],\n",
              "        [4.8, 3.4, 1.6, 0.2],\n",
              "        [4.8, 3. , 1.4, 0.1],\n",
              "        [4.3, 3. , 1.1, 0.1],\n",
              "        [5.8, 4. , 1.2, 0.2],\n",
              "        [5.7, 4.4, 1.5, 0.4],\n",
              "        [5.4, 3.9, 1.3, 0.4],\n",
              "        [5.1, 3.5, 1.4, 0.3],\n",
              "        [5.7, 3.8, 1.7, 0.3],\n",
              "        [5.1, 3.8, 1.5, 0.3],\n",
              "        [5.4, 3.4, 1.7, 0.2],\n",
              "        [5.1, 3.7, 1.5, 0.4],\n",
              "        [4.6, 3.6, 1. , 0.2],\n",
              "        [5.1, 3.3, 1.7, 0.5],\n",
              "        [4.8, 3.4, 1.9, 0.2],\n",
              "        [5. , 3. , 1.6, 0.2],\n",
              "        [5. , 3.4, 1.6, 0.4],\n",
              "        [5.2, 3.5, 1.5, 0.2],\n",
              "        [5.2, 3.4, 1.4, 0.2],\n",
              "        [4.7, 3.2, 1.6, 0.2],\n",
              "        [4.8, 3.1, 1.6, 0.2],\n",
              "        [5.4, 3.4, 1.5, 0.4],\n",
              "        [5.2, 4.1, 1.5, 0.1],\n",
              "        [5.5, 4.2, 1.4, 0.2],\n",
              "        [4.9, 3.1, 1.5, 0.2],\n",
              "        [5. , 3.2, 1.2, 0.2],\n",
              "        [5.5, 3.5, 1.3, 0.2],\n",
              "        [4.9, 3.6, 1.4, 0.1],\n",
              "        [4.4, 3. , 1.3, 0.2],\n",
              "        [5.1, 3.4, 1.5, 0.2],\n",
              "        [5. , 3.5, 1.3, 0.3],\n",
              "        [4.5, 2.3, 1.3, 0.3],\n",
              "        [4.4, 3.2, 1.3, 0.2],\n",
              "        [5. , 3.5, 1.6, 0.6],\n",
              "        [5.1, 3.8, 1.9, 0.4],\n",
              "        [4.8, 3. , 1.4, 0.3],\n",
              "        [5.1, 3.8, 1.6, 0.2],\n",
              "        [4.6, 3.2, 1.4, 0.2],\n",
              "        [5.3, 3.7, 1.5, 0.2],\n",
              "        [5. , 3.3, 1.4, 0.2],\n",
              "        [7. , 3.2, 4.7, 1.4],\n",
              "        [6.4, 3.2, 4.5, 1.5],\n",
              "        [6.9, 3.1, 4.9, 1.5],\n",
              "        [5.5, 2.3, 4. , 1.3],\n",
              "        [6.5, 2.8, 4.6, 1.5],\n",
              "        [5.7, 2.8, 4.5, 1.3],\n",
              "        [6.3, 3.3, 4.7, 1.6],\n",
              "        [4.9, 2.4, 3.3, 1. ],\n",
              "        [6.6, 2.9, 4.6, 1.3],\n",
              "        [5.2, 2.7, 3.9, 1.4],\n",
              "        [5. , 2. , 3.5, 1. ],\n",
              "        [5.9, 3. , 4.2, 1.5],\n",
              "        [6. , 2.2, 4. , 1. ],\n",
              "        [6.1, 2.9, 4.7, 1.4],\n",
              "        [5.6, 2.9, 3.6, 1.3],\n",
              "        [6.7, 3.1, 4.4, 1.4],\n",
              "        [5.6, 3. , 4.5, 1.5],\n",
              "        [5.8, 2.7, 4.1, 1. ],\n",
              "        [6.2, 2.2, 4.5, 1.5],\n",
              "        [5.6, 2.5, 3.9, 1.1],\n",
              "        [5.9, 3.2, 4.8, 1.8],\n",
              "        [6.1, 2.8, 4. , 1.3],\n",
              "        [6.3, 2.5, 4.9, 1.5],\n",
              "        [6.1, 2.8, 4.7, 1.2],\n",
              "        [6.4, 2.9, 4.3, 1.3],\n",
              "        [6.6, 3. , 4.4, 1.4],\n",
              "        [6.8, 2.8, 4.8, 1.4],\n",
              "        [6.7, 3. , 5. , 1.7],\n",
              "        [6. , 2.9, 4.5, 1.5],\n",
              "        [5.7, 2.6, 3.5, 1. ],\n",
              "        [5.5, 2.4, 3.8, 1.1],\n",
              "        [5.5, 2.4, 3.7, 1. ],\n",
              "        [5.8, 2.7, 3.9, 1.2],\n",
              "        [6. , 2.7, 5.1, 1.6],\n",
              "        [5.4, 3. , 4.5, 1.5],\n",
              "        [6. , 3.4, 4.5, 1.6],\n",
              "        [6.7, 3.1, 4.7, 1.5],\n",
              "        [6.3, 2.3, 4.4, 1.3],\n",
              "        [5.6, 3. , 4.1, 1.3],\n",
              "        [5.5, 2.5, 4. , 1.3],\n",
              "        [5.5, 2.6, 4.4, 1.2],\n",
              "        [6.1, 3. , 4.6, 1.4],\n",
              "        [5.8, 2.6, 4. , 1.2],\n",
              "        [5. , 2.3, 3.3, 1. ],\n",
              "        [5.6, 2.7, 4.2, 1.3],\n",
              "        [5.7, 3. , 4.2, 1.2],\n",
              "        [5.7, 2.9, 4.2, 1.3],\n",
              "        [6.2, 2.9, 4.3, 1.3],\n",
              "        [5.1, 2.5, 3. , 1.1],\n",
              "        [5.7, 2.8, 4.1, 1.3],\n",
              "        [6.3, 3.3, 6. , 2.5],\n",
              "        [5.8, 2.7, 5.1, 1.9],\n",
              "        [7.1, 3. , 5.9, 2.1],\n",
              "        [6.3, 2.9, 5.6, 1.8],\n",
              "        [6.5, 3. , 5.8, 2.2],\n",
              "        [7.6, 3. , 6.6, 2.1],\n",
              "        [4.9, 2.5, 4.5, 1.7],\n",
              "        [7.3, 2.9, 6.3, 1.8],\n",
              "        [6.7, 2.5, 5.8, 1.8],\n",
              "        [7.2, 3.6, 6.1, 2.5],\n",
              "        [6.5, 3.2, 5.1, 2. ],\n",
              "        [6.4, 2.7, 5.3, 1.9],\n",
              "        [6.8, 3. , 5.5, 2.1],\n",
              "        [5.7, 2.5, 5. , 2. ],\n",
              "        [5.8, 2.8, 5.1, 2.4],\n",
              "        [6.4, 3.2, 5.3, 2.3],\n",
              "        [6.5, 3. , 5.5, 1.8],\n",
              "        [7.7, 3.8, 6.7, 2.2],\n",
              "        [7.7, 2.6, 6.9, 2.3],\n",
              "        [6. , 2.2, 5. , 1.5],\n",
              "        [6.9, 3.2, 5.7, 2.3],\n",
              "        [5.6, 2.8, 4.9, 2. ],\n",
              "        [7.7, 2.8, 6.7, 2. ],\n",
              "        [6.3, 2.7, 4.9, 1.8],\n",
              "        [6.7, 3.3, 5.7, 2.1],\n",
              "        [7.2, 3.2, 6. , 1.8],\n",
              "        [6.2, 2.8, 4.8, 1.8],\n",
              "        [6.1, 3. , 4.9, 1.8],\n",
              "        [6.4, 2.8, 5.6, 2.1],\n",
              "        [7.2, 3. , 5.8, 1.6],\n",
              "        [7.4, 2.8, 6.1, 1.9],\n",
              "        [7.9, 3.8, 6.4, 2. ],\n",
              "        [6.4, 2.8, 5.6, 2.2],\n",
              "        [6.3, 2.8, 5.1, 1.5],\n",
              "        [6.1, 2.6, 5.6, 1.4],\n",
              "        [7.7, 3. , 6.1, 2.3],\n",
              "        [6.3, 3.4, 5.6, 2.4],\n",
              "        [6.4, 3.1, 5.5, 1.8],\n",
              "        [6. , 3. , 4.8, 1.8],\n",
              "        [6.9, 3.1, 5.4, 2.1],\n",
              "        [6.7, 3.1, 5.6, 2.4],\n",
              "        [6.9, 3.1, 5.1, 2.3],\n",
              "        [5.8, 2.7, 5.1, 1.9],\n",
              "        [6.8, 3.2, 5.9, 2.3],\n",
              "        [6.7, 3.3, 5.7, 2.5],\n",
              "        [6.7, 3. , 5.2, 2.3],\n",
              "        [6.3, 2.5, 5. , 1.9],\n",
              "        [6.5, 3. , 5.2, 2. ],\n",
              "        [6.2, 3.4, 5.4, 2.3],\n",
              "        [5.9, 3. , 5.1, 1.8]]),\n",
              " 'target': array([0, 0, 0, 0, 0, 0, 0, 0, 0, 0, 0, 0, 0, 0, 0, 0, 0, 0, 0, 0, 0, 0,\n",
              "        0, 0, 0, 0, 0, 0, 0, 0, 0, 0, 0, 0, 0, 0, 0, 0, 0, 0, 0, 0, 0, 0,\n",
              "        0, 0, 0, 0, 0, 0, 1, 1, 1, 1, 1, 1, 1, 1, 1, 1, 1, 1, 1, 1, 1, 1,\n",
              "        1, 1, 1, 1, 1, 1, 1, 1, 1, 1, 1, 1, 1, 1, 1, 1, 1, 1, 1, 1, 1, 1,\n",
              "        1, 1, 1, 1, 1, 1, 1, 1, 1, 1, 1, 1, 2, 2, 2, 2, 2, 2, 2, 2, 2, 2,\n",
              "        2, 2, 2, 2, 2, 2, 2, 2, 2, 2, 2, 2, 2, 2, 2, 2, 2, 2, 2, 2, 2, 2,\n",
              "        2, 2, 2, 2, 2, 2, 2, 2, 2, 2, 2, 2, 2, 2, 2, 2, 2, 2]),\n",
              " 'frame': None,\n",
              " 'target_names': array(['setosa', 'versicolor', 'virginica'], dtype='<U10'),\n",
              " 'DESCR': '.. _iris_dataset:\\n\\nIris plants dataset\\n--------------------\\n\\n**Data Set Characteristics:**\\n\\n:Number of Instances: 150 (50 in each of three classes)\\n:Number of Attributes: 4 numeric, predictive attributes and the class\\n:Attribute Information:\\n    - sepal length in cm\\n    - sepal width in cm\\n    - petal length in cm\\n    - petal width in cm\\n    - class:\\n            - Iris-Setosa\\n            - Iris-Versicolour\\n            - Iris-Virginica\\n\\n:Summary Statistics:\\n\\n============== ==== ==== ======= ===== ====================\\n                Min  Max   Mean    SD   Class Correlation\\n============== ==== ==== ======= ===== ====================\\nsepal length:   4.3  7.9   5.84   0.83    0.7826\\nsepal width:    2.0  4.4   3.05   0.43   -0.4194\\npetal length:   1.0  6.9   3.76   1.76    0.9490  (high!)\\npetal width:    0.1  2.5   1.20   0.76    0.9565  (high!)\\n============== ==== ==== ======= ===== ====================\\n\\n:Missing Attribute Values: None\\n:Class Distribution: 33.3% for each of 3 classes.\\n:Creator: R.A. Fisher\\n:Donor: Michael Marshall (MARSHALL%PLU@io.arc.nasa.gov)\\n:Date: July, 1988\\n\\nThe famous Iris database, first used by Sir R.A. Fisher. The dataset is taken\\nfrom Fisher\\'s paper. Note that it\\'s the same as in R, but not as in the UCI\\nMachine Learning Repository, which has two wrong data points.\\n\\nThis is perhaps the best known database to be found in the\\npattern recognition literature.  Fisher\\'s paper is a classic in the field and\\nis referenced frequently to this day.  (See Duda & Hart, for example.)  The\\ndata set contains 3 classes of 50 instances each, where each class refers to a\\ntype of iris plant.  One class is linearly separable from the other 2; the\\nlatter are NOT linearly separable from each other.\\n\\n.. dropdown:: References\\n\\n  - Fisher, R.A. \"The use of multiple measurements in taxonomic problems\"\\n    Annual Eugenics, 7, Part II, 179-188 (1936); also in \"Contributions to\\n    Mathematical Statistics\" (John Wiley, NY, 1950).\\n  - Duda, R.O., & Hart, P.E. (1973) Pattern Classification and Scene Analysis.\\n    (Q327.D83) John Wiley & Sons.  ISBN 0-471-22361-1.  See page 218.\\n  - Dasarathy, B.V. (1980) \"Nosing Around the Neighborhood: A New System\\n    Structure and Classification Rule for Recognition in Partially Exposed\\n    Environments\".  IEEE Transactions on Pattern Analysis and Machine\\n    Intelligence, Vol. PAMI-2, No. 1, 67-71.\\n  - Gates, G.W. (1972) \"The Reduced Nearest Neighbor Rule\".  IEEE Transactions\\n    on Information Theory, May 1972, 431-433.\\n  - See also: 1988 MLC Proceedings, 54-64.  Cheeseman et al\"s AUTOCLASS II\\n    conceptual clustering system finds 3 classes in the data.\\n  - Many, many more ...\\n',\n",
              " 'feature_names': ['sepal length (cm)',\n",
              "  'sepal width (cm)',\n",
              "  'petal length (cm)',\n",
              "  'petal width (cm)'],\n",
              " 'filename': 'iris.csv',\n",
              " 'data_module': 'sklearn.datasets.data'}"
            ]
          },
          "metadata": {},
          "execution_count": 161
        }
      ]
    },
    {
      "cell_type": "code",
      "source": [
        "irisdata.keys()"
      ],
      "metadata": {
        "colab": {
          "base_uri": "https://localhost:8080/"
        },
        "id": "M1TpM79E8cY2",
        "outputId": "960f71a6-b67f-4ad8-d476-212a32e320d4"
      },
      "execution_count": 162,
      "outputs": [
        {
          "output_type": "execute_result",
          "data": {
            "text/plain": [
              "dict_keys(['data', 'target', 'frame', 'target_names', 'DESCR', 'feature_names', 'filename', 'data_module'])"
            ]
          },
          "metadata": {},
          "execution_count": 162
        }
      ]
    },
    {
      "cell_type": "code",
      "source": [
        "import pandas as pd\n",
        "df_iris=pd.DataFrame(irisdata['data'],columns=irisdata['feature_names'])\n",
        "df_iris"
      ],
      "metadata": {
        "colab": {
          "base_uri": "https://localhost:8080/",
          "height": 423
        },
        "id": "77A4XPtY8waU",
        "outputId": "27732d5b-27a4-4daf-830a-214739620111"
      },
      "execution_count": 163,
      "outputs": [
        {
          "output_type": "execute_result",
          "data": {
            "text/plain": [
              "     sepal length (cm)  sepal width (cm)  petal length (cm)  petal width (cm)\n",
              "0                  5.1               3.5                1.4               0.2\n",
              "1                  4.9               3.0                1.4               0.2\n",
              "2                  4.7               3.2                1.3               0.2\n",
              "3                  4.6               3.1                1.5               0.2\n",
              "4                  5.0               3.6                1.4               0.2\n",
              "..                 ...               ...                ...               ...\n",
              "145                6.7               3.0                5.2               2.3\n",
              "146                6.3               2.5                5.0               1.9\n",
              "147                6.5               3.0                5.2               2.0\n",
              "148                6.2               3.4                5.4               2.3\n",
              "149                5.9               3.0                5.1               1.8\n",
              "\n",
              "[150 rows x 4 columns]"
            ],
            "text/html": [
              "\n",
              "  <div id=\"df-3b583bf6-c647-40cd-83b6-bcdcaebfbfe2\" class=\"colab-df-container\">\n",
              "    <div>\n",
              "<style scoped>\n",
              "    .dataframe tbody tr th:only-of-type {\n",
              "        vertical-align: middle;\n",
              "    }\n",
              "\n",
              "    .dataframe tbody tr th {\n",
              "        vertical-align: top;\n",
              "    }\n",
              "\n",
              "    .dataframe thead th {\n",
              "        text-align: right;\n",
              "    }\n",
              "</style>\n",
              "<table border=\"1\" class=\"dataframe\">\n",
              "  <thead>\n",
              "    <tr style=\"text-align: right;\">\n",
              "      <th></th>\n",
              "      <th>sepal length (cm)</th>\n",
              "      <th>sepal width (cm)</th>\n",
              "      <th>petal length (cm)</th>\n",
              "      <th>petal width (cm)</th>\n",
              "    </tr>\n",
              "  </thead>\n",
              "  <tbody>\n",
              "    <tr>\n",
              "      <th>0</th>\n",
              "      <td>5.1</td>\n",
              "      <td>3.5</td>\n",
              "      <td>1.4</td>\n",
              "      <td>0.2</td>\n",
              "    </tr>\n",
              "    <tr>\n",
              "      <th>1</th>\n",
              "      <td>4.9</td>\n",
              "      <td>3.0</td>\n",
              "      <td>1.4</td>\n",
              "      <td>0.2</td>\n",
              "    </tr>\n",
              "    <tr>\n",
              "      <th>2</th>\n",
              "      <td>4.7</td>\n",
              "      <td>3.2</td>\n",
              "      <td>1.3</td>\n",
              "      <td>0.2</td>\n",
              "    </tr>\n",
              "    <tr>\n",
              "      <th>3</th>\n",
              "      <td>4.6</td>\n",
              "      <td>3.1</td>\n",
              "      <td>1.5</td>\n",
              "      <td>0.2</td>\n",
              "    </tr>\n",
              "    <tr>\n",
              "      <th>4</th>\n",
              "      <td>5.0</td>\n",
              "      <td>3.6</td>\n",
              "      <td>1.4</td>\n",
              "      <td>0.2</td>\n",
              "    </tr>\n",
              "    <tr>\n",
              "      <th>...</th>\n",
              "      <td>...</td>\n",
              "      <td>...</td>\n",
              "      <td>...</td>\n",
              "      <td>...</td>\n",
              "    </tr>\n",
              "    <tr>\n",
              "      <th>145</th>\n",
              "      <td>6.7</td>\n",
              "      <td>3.0</td>\n",
              "      <td>5.2</td>\n",
              "      <td>2.3</td>\n",
              "    </tr>\n",
              "    <tr>\n",
              "      <th>146</th>\n",
              "      <td>6.3</td>\n",
              "      <td>2.5</td>\n",
              "      <td>5.0</td>\n",
              "      <td>1.9</td>\n",
              "    </tr>\n",
              "    <tr>\n",
              "      <th>147</th>\n",
              "      <td>6.5</td>\n",
              "      <td>3.0</td>\n",
              "      <td>5.2</td>\n",
              "      <td>2.0</td>\n",
              "    </tr>\n",
              "    <tr>\n",
              "      <th>148</th>\n",
              "      <td>6.2</td>\n",
              "      <td>3.4</td>\n",
              "      <td>5.4</td>\n",
              "      <td>2.3</td>\n",
              "    </tr>\n",
              "    <tr>\n",
              "      <th>149</th>\n",
              "      <td>5.9</td>\n",
              "      <td>3.0</td>\n",
              "      <td>5.1</td>\n",
              "      <td>1.8</td>\n",
              "    </tr>\n",
              "  </tbody>\n",
              "</table>\n",
              "<p>150 rows × 4 columns</p>\n",
              "</div>\n",
              "    <div class=\"colab-df-buttons\">\n",
              "\n",
              "  <div class=\"colab-df-container\">\n",
              "    <button class=\"colab-df-convert\" onclick=\"convertToInteractive('df-3b583bf6-c647-40cd-83b6-bcdcaebfbfe2')\"\n",
              "            title=\"Convert this dataframe to an interactive table.\"\n",
              "            style=\"display:none;\">\n",
              "\n",
              "  <svg xmlns=\"http://www.w3.org/2000/svg\" height=\"24px\" viewBox=\"0 -960 960 960\">\n",
              "    <path d=\"M120-120v-720h720v720H120Zm60-500h600v-160H180v160Zm220 220h160v-160H400v160Zm0 220h160v-160H400v160ZM180-400h160v-160H180v160Zm440 0h160v-160H620v160ZM180-180h160v-160H180v160Zm440 0h160v-160H620v160Z\"/>\n",
              "  </svg>\n",
              "    </button>\n",
              "\n",
              "  <style>\n",
              "    .colab-df-container {\n",
              "      display:flex;\n",
              "      gap: 12px;\n",
              "    }\n",
              "\n",
              "    .colab-df-convert {\n",
              "      background-color: #E8F0FE;\n",
              "      border: none;\n",
              "      border-radius: 50%;\n",
              "      cursor: pointer;\n",
              "      display: none;\n",
              "      fill: #1967D2;\n",
              "      height: 32px;\n",
              "      padding: 0 0 0 0;\n",
              "      width: 32px;\n",
              "    }\n",
              "\n",
              "    .colab-df-convert:hover {\n",
              "      background-color: #E2EBFA;\n",
              "      box-shadow: 0px 1px 2px rgba(60, 64, 67, 0.3), 0px 1px 3px 1px rgba(60, 64, 67, 0.15);\n",
              "      fill: #174EA6;\n",
              "    }\n",
              "\n",
              "    .colab-df-buttons div {\n",
              "      margin-bottom: 4px;\n",
              "    }\n",
              "\n",
              "    [theme=dark] .colab-df-convert {\n",
              "      background-color: #3B4455;\n",
              "      fill: #D2E3FC;\n",
              "    }\n",
              "\n",
              "    [theme=dark] .colab-df-convert:hover {\n",
              "      background-color: #434B5C;\n",
              "      box-shadow: 0px 1px 3px 1px rgba(0, 0, 0, 0.15);\n",
              "      filter: drop-shadow(0px 1px 2px rgba(0, 0, 0, 0.3));\n",
              "      fill: #FFFFFF;\n",
              "    }\n",
              "  </style>\n",
              "\n",
              "    <script>\n",
              "      const buttonEl =\n",
              "        document.querySelector('#df-3b583bf6-c647-40cd-83b6-bcdcaebfbfe2 button.colab-df-convert');\n",
              "      buttonEl.style.display =\n",
              "        google.colab.kernel.accessAllowed ? 'block' : 'none';\n",
              "\n",
              "      async function convertToInteractive(key) {\n",
              "        const element = document.querySelector('#df-3b583bf6-c647-40cd-83b6-bcdcaebfbfe2');\n",
              "        const dataTable =\n",
              "          await google.colab.kernel.invokeFunction('convertToInteractive',\n",
              "                                                    [key], {});\n",
              "        if (!dataTable) return;\n",
              "\n",
              "        const docLinkHtml = 'Like what you see? Visit the ' +\n",
              "          '<a target=\"_blank\" href=https://colab.research.google.com/notebooks/data_table.ipynb>data table notebook</a>'\n",
              "          + ' to learn more about interactive tables.';\n",
              "        element.innerHTML = '';\n",
              "        dataTable['output_type'] = 'display_data';\n",
              "        await google.colab.output.renderOutput(dataTable, element);\n",
              "        const docLink = document.createElement('div');\n",
              "        docLink.innerHTML = docLinkHtml;\n",
              "        element.appendChild(docLink);\n",
              "      }\n",
              "    </script>\n",
              "  </div>\n",
              "\n",
              "\n",
              "<div id=\"df-7e7b9940-9ddd-4350-bdc6-45427d30051c\">\n",
              "  <button class=\"colab-df-quickchart\" onclick=\"quickchart('df-7e7b9940-9ddd-4350-bdc6-45427d30051c')\"\n",
              "            title=\"Suggest charts\"\n",
              "            style=\"display:none;\">\n",
              "\n",
              "<svg xmlns=\"http://www.w3.org/2000/svg\" height=\"24px\"viewBox=\"0 0 24 24\"\n",
              "     width=\"24px\">\n",
              "    <g>\n",
              "        <path d=\"M19 3H5c-1.1 0-2 .9-2 2v14c0 1.1.9 2 2 2h14c1.1 0 2-.9 2-2V5c0-1.1-.9-2-2-2zM9 17H7v-7h2v7zm4 0h-2V7h2v10zm4 0h-2v-4h2v4z\"/>\n",
              "    </g>\n",
              "</svg>\n",
              "  </button>\n",
              "\n",
              "<style>\n",
              "  .colab-df-quickchart {\n",
              "      --bg-color: #E8F0FE;\n",
              "      --fill-color: #1967D2;\n",
              "      --hover-bg-color: #E2EBFA;\n",
              "      --hover-fill-color: #174EA6;\n",
              "      --disabled-fill-color: #AAA;\n",
              "      --disabled-bg-color: #DDD;\n",
              "  }\n",
              "\n",
              "  [theme=dark] .colab-df-quickchart {\n",
              "      --bg-color: #3B4455;\n",
              "      --fill-color: #D2E3FC;\n",
              "      --hover-bg-color: #434B5C;\n",
              "      --hover-fill-color: #FFFFFF;\n",
              "      --disabled-bg-color: #3B4455;\n",
              "      --disabled-fill-color: #666;\n",
              "  }\n",
              "\n",
              "  .colab-df-quickchart {\n",
              "    background-color: var(--bg-color);\n",
              "    border: none;\n",
              "    border-radius: 50%;\n",
              "    cursor: pointer;\n",
              "    display: none;\n",
              "    fill: var(--fill-color);\n",
              "    height: 32px;\n",
              "    padding: 0;\n",
              "    width: 32px;\n",
              "  }\n",
              "\n",
              "  .colab-df-quickchart:hover {\n",
              "    background-color: var(--hover-bg-color);\n",
              "    box-shadow: 0 1px 2px rgba(60, 64, 67, 0.3), 0 1px 3px 1px rgba(60, 64, 67, 0.15);\n",
              "    fill: var(--button-hover-fill-color);\n",
              "  }\n",
              "\n",
              "  .colab-df-quickchart-complete:disabled,\n",
              "  .colab-df-quickchart-complete:disabled:hover {\n",
              "    background-color: var(--disabled-bg-color);\n",
              "    fill: var(--disabled-fill-color);\n",
              "    box-shadow: none;\n",
              "  }\n",
              "\n",
              "  .colab-df-spinner {\n",
              "    border: 2px solid var(--fill-color);\n",
              "    border-color: transparent;\n",
              "    border-bottom-color: var(--fill-color);\n",
              "    animation:\n",
              "      spin 1s steps(1) infinite;\n",
              "  }\n",
              "\n",
              "  @keyframes spin {\n",
              "    0% {\n",
              "      border-color: transparent;\n",
              "      border-bottom-color: var(--fill-color);\n",
              "      border-left-color: var(--fill-color);\n",
              "    }\n",
              "    20% {\n",
              "      border-color: transparent;\n",
              "      border-left-color: var(--fill-color);\n",
              "      border-top-color: var(--fill-color);\n",
              "    }\n",
              "    30% {\n",
              "      border-color: transparent;\n",
              "      border-left-color: var(--fill-color);\n",
              "      border-top-color: var(--fill-color);\n",
              "      border-right-color: var(--fill-color);\n",
              "    }\n",
              "    40% {\n",
              "      border-color: transparent;\n",
              "      border-right-color: var(--fill-color);\n",
              "      border-top-color: var(--fill-color);\n",
              "    }\n",
              "    60% {\n",
              "      border-color: transparent;\n",
              "      border-right-color: var(--fill-color);\n",
              "    }\n",
              "    80% {\n",
              "      border-color: transparent;\n",
              "      border-right-color: var(--fill-color);\n",
              "      border-bottom-color: var(--fill-color);\n",
              "    }\n",
              "    90% {\n",
              "      border-color: transparent;\n",
              "      border-bottom-color: var(--fill-color);\n",
              "    }\n",
              "  }\n",
              "</style>\n",
              "\n",
              "  <script>\n",
              "    async function quickchart(key) {\n",
              "      const quickchartButtonEl =\n",
              "        document.querySelector('#' + key + ' button');\n",
              "      quickchartButtonEl.disabled = true;  // To prevent multiple clicks.\n",
              "      quickchartButtonEl.classList.add('colab-df-spinner');\n",
              "      try {\n",
              "        const charts = await google.colab.kernel.invokeFunction(\n",
              "            'suggestCharts', [key], {});\n",
              "      } catch (error) {\n",
              "        console.error('Error during call to suggestCharts:', error);\n",
              "      }\n",
              "      quickchartButtonEl.classList.remove('colab-df-spinner');\n",
              "      quickchartButtonEl.classList.add('colab-df-quickchart-complete');\n",
              "    }\n",
              "    (() => {\n",
              "      let quickchartButtonEl =\n",
              "        document.querySelector('#df-7e7b9940-9ddd-4350-bdc6-45427d30051c button');\n",
              "      quickchartButtonEl.style.display =\n",
              "        google.colab.kernel.accessAllowed ? 'block' : 'none';\n",
              "    })();\n",
              "  </script>\n",
              "</div>\n",
              "\n",
              "  <div id=\"id_763fa71c-e05e-4b89-b887-6a5c6329c3ef\">\n",
              "    <style>\n",
              "      .colab-df-generate {\n",
              "        background-color: #E8F0FE;\n",
              "        border: none;\n",
              "        border-radius: 50%;\n",
              "        cursor: pointer;\n",
              "        display: none;\n",
              "        fill: #1967D2;\n",
              "        height: 32px;\n",
              "        padding: 0 0 0 0;\n",
              "        width: 32px;\n",
              "      }\n",
              "\n",
              "      .colab-df-generate:hover {\n",
              "        background-color: #E2EBFA;\n",
              "        box-shadow: 0px 1px 2px rgba(60, 64, 67, 0.3), 0px 1px 3px 1px rgba(60, 64, 67, 0.15);\n",
              "        fill: #174EA6;\n",
              "      }\n",
              "\n",
              "      [theme=dark] .colab-df-generate {\n",
              "        background-color: #3B4455;\n",
              "        fill: #D2E3FC;\n",
              "      }\n",
              "\n",
              "      [theme=dark] .colab-df-generate:hover {\n",
              "        background-color: #434B5C;\n",
              "        box-shadow: 0px 1px 3px 1px rgba(0, 0, 0, 0.15);\n",
              "        filter: drop-shadow(0px 1px 2px rgba(0, 0, 0, 0.3));\n",
              "        fill: #FFFFFF;\n",
              "      }\n",
              "    </style>\n",
              "    <button class=\"colab-df-generate\" onclick=\"generateWithVariable('df_iris')\"\n",
              "            title=\"Generate code using this dataframe.\"\n",
              "            style=\"display:none;\">\n",
              "\n",
              "  <svg xmlns=\"http://www.w3.org/2000/svg\" height=\"24px\"viewBox=\"0 0 24 24\"\n",
              "       width=\"24px\">\n",
              "    <path d=\"M7,19H8.4L18.45,9,17,7.55,7,17.6ZM5,21V16.75L18.45,3.32a2,2,0,0,1,2.83,0l1.4,1.43a1.91,1.91,0,0,1,.58,1.4,1.91,1.91,0,0,1-.58,1.4L9.25,21ZM18.45,9,17,7.55Zm-12,3A5.31,5.31,0,0,0,4.9,8.1,5.31,5.31,0,0,0,1,6.5,5.31,5.31,0,0,0,4.9,4.9,5.31,5.31,0,0,0,6.5,1,5.31,5.31,0,0,0,8.1,4.9,5.31,5.31,0,0,0,12,6.5,5.46,5.46,0,0,0,6.5,12Z\"/>\n",
              "  </svg>\n",
              "    </button>\n",
              "    <script>\n",
              "      (() => {\n",
              "      const buttonEl =\n",
              "        document.querySelector('#id_763fa71c-e05e-4b89-b887-6a5c6329c3ef button.colab-df-generate');\n",
              "      buttonEl.style.display =\n",
              "        google.colab.kernel.accessAllowed ? 'block' : 'none';\n",
              "\n",
              "      buttonEl.onclick = () => {\n",
              "        google.colab.notebook.generateWithVariable('df_iris');\n",
              "      }\n",
              "      })();\n",
              "    </script>\n",
              "  </div>\n",
              "\n",
              "    </div>\n",
              "  </div>\n"
            ],
            "application/vnd.google.colaboratory.intrinsic+json": {
              "type": "dataframe",
              "variable_name": "df_iris",
              "summary": "{\n  \"name\": \"df_iris\",\n  \"rows\": 150,\n  \"fields\": [\n    {\n      \"column\": \"sepal length (cm)\",\n      \"properties\": {\n        \"dtype\": \"number\",\n        \"std\": 0.8280661279778629,\n        \"min\": 4.3,\n        \"max\": 7.9,\n        \"num_unique_values\": 35,\n        \"samples\": [\n          6.2,\n          4.5,\n          5.6\n        ],\n        \"semantic_type\": \"\",\n        \"description\": \"\"\n      }\n    },\n    {\n      \"column\": \"sepal width (cm)\",\n      \"properties\": {\n        \"dtype\": \"number\",\n        \"std\": 0.435866284936698,\n        \"min\": 2.0,\n        \"max\": 4.4,\n        \"num_unique_values\": 23,\n        \"samples\": [\n          2.3,\n          4.0,\n          3.5\n        ],\n        \"semantic_type\": \"\",\n        \"description\": \"\"\n      }\n    },\n    {\n      \"column\": \"petal length (cm)\",\n      \"properties\": {\n        \"dtype\": \"number\",\n        \"std\": 1.7652982332594667,\n        \"min\": 1.0,\n        \"max\": 6.9,\n        \"num_unique_values\": 43,\n        \"samples\": [\n          6.7,\n          3.8,\n          3.7\n        ],\n        \"semantic_type\": \"\",\n        \"description\": \"\"\n      }\n    },\n    {\n      \"column\": \"petal width (cm)\",\n      \"properties\": {\n        \"dtype\": \"number\",\n        \"std\": 0.7622376689603465,\n        \"min\": 0.1,\n        \"max\": 2.5,\n        \"num_unique_values\": 22,\n        \"samples\": [\n          0.2,\n          1.2,\n          1.3\n        ],\n        \"semantic_type\": \"\",\n        \"description\": \"\"\n      }\n    }\n  ]\n}"
            }
          },
          "metadata": {},
          "execution_count": 163
        }
      ]
    },
    {
      "source": [
        "# @title petal length (cm) vs petal width (cm)\n",
        "\n",
        "from matplotlib import pyplot as plt\n",
        "df_iris.plot(kind='scatter', x='petal length (cm)', y='petal width (cm)', s=32, alpha=.8)\n",
        "plt.gca().spines[['top', 'right',]].set_visible(False)"
      ],
      "cell_type": "code",
      "execution_count": 164,
      "outputs": [
        {
          "output_type": "display_data",
          "data": {
            "text/plain": [
              "<Figure size 640x480 with 1 Axes>"
            ],
            "image/png": "[encoded data removed]"
          },
          "metadata": {}
        }
      ],
      "metadata": {
        "cellView": "form",
        "colab": {
          "base_uri": "https://localhost:8080/",
          "height": 449
        },
        "id": "Yt9uet509JKQ",
        "outputId": "27dcdc91-ad7a-4faa-9fe0-364a7ba14318"
      }
    },
    {
      "cell_type": "code",
      "source": [],
      "metadata": {
        "id": "9egnmSt18_Zx"
      },
      "execution_count": null,
      "outputs": []
    }
  ]
}